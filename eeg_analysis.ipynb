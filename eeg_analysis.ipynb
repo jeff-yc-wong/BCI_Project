{
 "cells": [
  {
   "cell_type": "markdown",
   "metadata": {},
   "source": [
    "# Importing Libraries"
   ]
  },
  {
   "cell_type": "code",
   "execution_count": 54,
   "metadata": {},
   "outputs": [],
   "source": [
    "# !pip install mne\n",
    "\n",
    "import mne\n",
    "import scipy.io\n",
    "import numpy as np\n",
    "import pathlib\n",
    "\n",
    "\n"
   ]
  },
  {
   "cell_type": "markdown",
   "metadata": {},
   "source": [
    "# Importing Data"
   ]
  },
  {
   "cell_type": "code",
   "execution_count": null,
   "metadata": {},
   "outputs": [],
   "source": [
    "# Get an array of file paths of each subject\n",
    "directory = pathlib.Path('data')\n",
    "files = directory.glob('*.mat')\n",
    "file_paths = sorted([file for file in files if file.is_file()])"
   ]
  },
  {
   "cell_type": "markdown",
   "metadata": {},
   "source": [
    "# Data Generation\n",
    "Define functions, that take in a file_path, and return processed data, figures, etc."
   ]
  },
  {
   "cell_type": "code",
   "execution_count": 62,
   "metadata": {},
   "outputs": [
    {
     "name": "stdout",
     "output_type": "stream",
     "text": [
      "(245760, 6)\n"
     ]
    }
   ],
   "source": [
    "def process_mat_file(file_path):\n",
    "    mat = scipy.io.loadmat(file_path)\n",
    "\n",
    "    channel_labels = np.array([mat['chann'][0][i][0] for i in range(len(mat['chann'][0]))])\n",
    "\n",
    "    EEG_channel_labels = channel_labels[0:32]\n",
    "    EEG_data = mat['X'][0:32, :]\n",
    "\n",
    "    I = mat['I']\n",
    "\n",
    "    print(I.T.shape)\n",
    "\n",
    "process_mat_file(file_paths[0])"
   ]
  }
 ],
 "metadata": {
  "kernelspec": {
   "display_name": "tmp",
   "language": "python",
   "name": "python3"
  },
  "language_info": {
   "codemirror_mode": {
    "name": "ipython",
    "version": 3
   },
   "file_extension": ".py",
   "mimetype": "text/x-python",
   "name": "python",
   "nbconvert_exporter": "python",
   "pygments_lexer": "ipython3",
   "version": "3.12.2"
  }
 },
 "nbformat": 4,
 "nbformat_minor": 2
}
