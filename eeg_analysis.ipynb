{
 "cells": [
  {
   "cell_type": "markdown",
   "metadata": {},
   "source": [
    "## Importing Libraries"
   ]
  },
  {
   "cell_type": "code",
   "execution_count": 52,
   "metadata": {},
   "outputs": [],
   "source": [
    "# !pip install mne\n",
    "\n",
    "import mne\n",
    "import scipy.io\n",
    "import numpy as np\n",
    "import pathlib\n",
    "import gdown\n",
    "import zipfile"
   ]
  },
  {
   "cell_type": "markdown",
   "metadata": {},
   "source": [
    "## Downloading the zipped data file from Google Drive"
   ]
  },
  {
   "cell_type": "code",
   "execution_count": 53,
   "metadata": {},
   "outputs": [],
   "source": [
    "cwd = pathlib.Path.cwd()\n",
    "\n",
    "# Download zip file, if data folder doesn't exist\n",
    "if not ((cwd/'data.zip').exists() or ((cwd/'data').exists and (cwd/'data').is_dir())):\n",
    "    url = 'https://drive.google.com/file/d/1y5r8yVxDHqvHck1hsX6TIjnXRpOTP4RE/view?usp=sharing'\n",
    "    output = 'data.zip'\n",
    "    gdown.download(url, output, fuzzy=True)\n",
    "\n",
    "\n",
    "# Extract zip file to the current working directory\n",
    "if not ((cwd/'data').exists and (cwd/'data').is_dir()):\n",
    "    with zipfile.ZipFile(cwd/'data.zip', 'r') as zip_ref:\n",
    "        zip_ref.extractall(cwd)\n",
    "\n",
    "    # Delete zip file\n",
    "    (cwd/'data.zip').unlink()"
   ]
  },
  {
   "cell_type": "markdown",
   "metadata": {},
   "source": [
    "## Importing data"
   ]
  },
  {
   "cell_type": "code",
   "execution_count": 54,
   "metadata": {},
   "outputs": [],
   "source": [
    "# Get an array of file paths of each subject\n",
    "directory = pathlib.Path('data')\n",
    "files = directory.glob('*.mat')\n",
    "file_paths = sorted([file for file in files if file.is_file()])"
   ]
  },
  {
   "cell_type": "markdown",
   "metadata": {},
   "source": [
    "## Processing Matlab data to Python data object"
   ]
  },
  {
   "cell_type": "code",
   "execution_count": 56,
   "metadata": {},
   "outputs": [
    {
     "data": {
      "text/plain": [
       "dict_keys(['X', 'Y', 'id_lab', 'chann', 'I'])"
      ]
     },
     "execution_count": 56,
     "metadata": {},
     "output_type": "execute_result"
    }
   ],
   "source": [
    "def process_mat_file(file_path):\n",
    "    mat = scipy.io.loadmat(file_path)\n",
    "\n",
    "    chann = np.array([mat['chann'][0][i][0] for i in range(len(mat['chann'][0]))])\n",
    "    X = mat['X']\n",
    "    I = mat['I']\n",
    "    Y = mat['Y']\n",
    "\n",
    "    id_lab = np.array([mat['id_lab'][0][i][0] for i in range(len(mat['id_lab'][0]))])\n",
    "\n",
    "    return {'X': X, 'Y': Y, 'id_lab': id_lab, 'chann': chann, 'I': I}\n",
    "\n",
    "# Example to obtain processed data from a file\n",
    "# data = process_mat_file('data/S00.mat')\n",
    "data.keys()"
   ]
  },
  {
   "cell_type": "markdown",
   "metadata": {},
   "source": [
    "## Process data for ERP analysis"
   ]
  }
 ],
 "metadata": {
  "kernelspec": {
   "display_name": "tmp",
   "language": "python",
   "name": "python3"
  },
  "language_info": {
   "codemirror_mode": {
    "name": "ipython",
    "version": 3
   },
   "file_extension": ".py",
   "mimetype": "text/x-python",
   "name": "python",
   "nbconvert_exporter": "python",
   "pygments_lexer": "ipython3",
   "version": "3.12.2"
  }
 },
 "nbformat": 4,
 "nbformat_minor": 2
}
